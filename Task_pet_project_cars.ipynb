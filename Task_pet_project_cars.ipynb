{
 "cells": [
  {
   "cell_type": "code",
   "execution_count": null,
   "id": "71a61939-165e-49ff-969c-be1028236b65",
   "metadata": {},
   "outputs": [],
   "source": [
    "import pandas as pd\n",
    "import numpy as np\n",
    "import json\n",
    "import requests\n",
    "import zipfile\n",
    "import os\n",
    "import matplotlib.pyplot as plt\n",
    "import seaborn as sns\n",
    "\n",
    "%matplotlib inline"
   ]
  },
  {
   "cell_type": "code",
   "execution_count": null,
   "id": "bdcb454e-667e-4903-8bfd-2303fda66a60",
   "metadata": {},
   "outputs": [],
   "source": [
    "# get file from here\n",
    "# https://data.gov.ua/dataset/06779371-308f-42d7-895e-5a39833375f0\n",
    "file_path = r\"D:\\IT\\Pet_project_car\\tz_opendata_z01012023_po01012024.csv\"\n",
    "df = pd.read_csv(file_path, nrows=2)\n",
    "print(df)"
   ]
  },
  {
   "cell_type": "code",
   "execution_count": null,
   "id": "ef695641-71cb-4e29-8889-b152a5118aff",
   "metadata": {},
   "outputs": [],
   "source": [
    "df = pd.read_csv(r'D:\\IT\\Pet_project_car\\tz_opendata_z01012023_po01012024.csv', sep=';', low_memory=False)"
   ]
  },
  {
   "cell_type": "code",
   "execution_count": null,
   "id": "d1fe338a-bfb3-4995-9c71-b6ed18139da6",
   "metadata": {},
   "outputs": [],
   "source": [
    "df.head()"
   ]
  },
  {
   "cell_type": "code",
   "execution_count": null,
   "id": "dca9a37b-9b2e-41d2-9940-0ea0dd4479e7",
   "metadata": {},
   "outputs": [],
   "source": [
    "df.info()"
   ]
  },
  {
   "cell_type": "code",
   "execution_count": null,
   "id": "23f98386-6999-4b12-a058-171a528f5b0b",
   "metadata": {},
   "outputs": [],
   "source": [
    "df['PERSON'].value_counts().head(10)"
   ]
  },
  {
   "cell_type": "code",
   "execution_count": null,
   "id": "aa501a02-863c-4427-80f4-7b4cd66d31fd",
   "metadata": {},
   "outputs": [],
   "source": [
    "df_prof=df[['PERSON', 'OPER_NAME', 'D_REG', 'BRAND', 'MODEL', 'MAKE_YEAR', 'COLOR', 'KIND', 'BODY', 'FUEL', 'CAPACITY']]"
   ]
  },
  {
   "cell_type": "code",
   "execution_count": null,
   "id": "b1309608-1c49-4205-b3b4-e7a48a56e8f3",
   "metadata": {},
   "outputs": [],
   "source": [
    "from ydata_profiling import ProfileReport\n",
    "ProfileReport(df_prof)"
   ]
  },
  {
   "cell_type": "code",
   "execution_count": null,
   "id": "3227c3b5-2b22-40ab-973d-d3a1b81eb3f3",
   "metadata": {},
   "outputs": [],
   "source": [
    "# json file is here https://data.gov.ua/dataset/06779371-308f-42d7-895e-5a39833375f0\n",
    "# Create a new folder 'files' if it doesn't exist\n",
    "if not os.path.exists('files'):\n",
    "    os.makedirs('files')\n",
    "\n",
    "with open('datapackage.json', 'r') as json_file:\n",
    "    data = json.load(json_file)\n",
    "\n",
    "for resource in data['resources']:\n",
    "    path = resource['path']\n",
    "    file_name = path.split(\"/\")[-1]\n",
    "    \n",
    "    response = requests.get(path)\n",
    "    \n",
    "    if response.status_code == 200:\n",
    "        #Save the file in the 'files' folder\n",
    "        with open(os.path.join('files', file_name), 'wb') as file:\n",
    "            file.write(response.content)\n",
    "        print(f\"Downloaded: {file_name}\")\n",
    "    else:\n",
    "        print(f\"Failed to download: {file_name}\")\n",
    "\n",
    "print(\"Download complete.\")"
   ]
  },
  {
   "cell_type": "markdown",
   "id": "d2484b13-0868-4084-9830-d2474686c857",
   "metadata": {},
   "source": [
    "Unzip and add to df"
   ]
  },
  {
   "cell_type": "code",
   "execution_count": null,
   "id": "c69fdf68-3143-4995-a39c-415bb2f19a92",
   "metadata": {},
   "outputs": [],
   "source": [
    "# List files in the 'files' folder\n",
    "files = os.listdir('files')\n",
    "\n",
    "# Iterate through the files and unzip any zip archives\n",
    "for file_name in files:\n",
    "    if file_name.endswith('.zip'):\n",
    "        # Specify the path of the zip file\n",
    "        zip_path = os.path.join('files', file_name)\n",
    "\n",
    "        with zipfile.ZipFile(zip_path, 'r') as zip_ref:\n",
    "            # Extract files into the 'files' folder\n",
    "            zip_ref.extractall('files')\n",
    "            print(f\"Extracted: {file_name}\")\n",
    "\n",
    "        # Delete the zip file after extraction\n",
    "        os.remove(zip_path)\n",
    "        print(f\"Deleted: {file_name}\")\n",
    "\n",
    "print(\"Extraction of zip files complete.\")"
   ]
  },
  {
   "cell_type": "code",
   "execution_count": null,
   "id": "f60b6823-9736-4c3f-b5cb-ceed0a769e77",
   "metadata": {},
   "outputs": [],
   "source": [
    "# Check files in the 'files' folder\n",
    "folder_path = os.getcwd()\n",
    "print(\"\\nFiles in the 'files' folder:\")\n",
    "files_folder_path = os.path.join(folder_path, 'files')\n",
    "for filename in os.listdir(files_folder_path):\n",
    "    print(filename)"
   ]
  },
  {
   "cell_type": "code",
   "execution_count": null,
   "id": "8ed02255-916a-44aa-8909-b77028dfa703",
   "metadata": {},
   "outputs": [],
   "source": [
    "# change '.ßsv' file\n",
    "for filename in os.listdir(files_folder_path):\n",
    "    if not filename.endswith('.csv'):\n",
    "        # Rename the file to end with '.csv'\n",
    "        new_filename = os.path.splitext(filename)[0] + '.csv'\n",
    "        os.rename(os.path.join(files_folder_path, filename), os.path.join(files_folder_path, new_filename))\n",
    "        print('file', filename, 'renamed')"
   ]
  },
  {
   "cell_type": "code",
   "execution_count": null,
   "id": "48268dc8-d910-412e-8edc-f9b985c5f55c",
   "metadata": {},
   "outputs": [],
   "source": [
    "#Creat a df for all the data\n",
    "\n",
    "result_df = pd.DataFrame()\n",
    "\n",
    "for filename in os.listdir(files_folder_path):\n",
    "\n",
    "    if filename.endswith('.csv'):\n",
    "        file_path = os.path.join(files_folder_path, filename)\n",
    "        df = pd.read_csv(file_path, sep = ';', low_memory=False)\n",
    "        df.columns = df.columns.str.upper()\n",
    "        result_df = pd.concat([result_df, df], ignore_index=True)\n",
    "        print(filename, 'added')\n",
    "print('I\\'m done')"
   ]
  },
  {
   "cell_type": "code",
   "execution_count": null,
   "id": "65df32e2-8ccd-4b0c-9851-943a431918c6",
   "metadata": {},
   "outputs": [],
   "source": [
    "print(len(result_df))"
   ]
  },
  {
   "cell_type": "markdown",
   "id": "68946d0c-0b80-4f80-b5c3-fcce2efb4456",
   "metadata": {},
   "source": [
    "Filter df\r\n",
    "фізичні особи,\r\n",
    "первинна реєстрація\r\n",
    "легкових автомобілів\r\n",
    "загального призначення."
   ]
  },
  {
   "cell_type": "code",
   "execution_count": null,
   "id": "75b57898-7674-41a4-b465-f9e3145088ba",
   "metadata": {},
   "outputs": [],
   "source": [
    "#Optional: choose only relevant fields.  \n",
    "result_df = result_df[['PERSON', 'OPER_CODE', 'OPER_NAME', 'D_REG', 'BRAND', \n",
    "                       'MODEL', 'MAKE_YEAR', 'COLOR', 'KIND', 'BODY',\n",
    "                      'PURPOSE', 'FUEL', 'CAPACITY', 'VIN']]\n",
    "\n",
    "#filter df \n",
    "result_df = result_df[(result_df['PERSON']=='P')&\n",
    "                      (result_df['KIND'] =='ЛЕГКОВИЙ')&\n",
    "                      (result_df['PURPOSE'] =='ЗАГАЛЬНИЙ')]"
   ]
  },
  {
   "cell_type": "code",
   "execution_count": null,
   "id": "01055208-4ca8-4893-86c3-65970c9c94a0",
   "metadata": {},
   "outputs": [],
   "source": [
    "#find necessary codes \n",
    "result_df[result_df['OPER_NAME'].str.upper().str.contains('ПЕРВИННА')]['OPER_CODE'].unique()"
   ]
  },
  {
   "cell_type": "code",
   "execution_count": null,
   "id": "346b3455-0de9-40df-94c2-346d8e748bdd",
   "metadata": {},
   "outputs": [],
   "source": [
    "#check the most popular codes, to find out 70 and 71 could also be relevand. I can be wrong =) \n",
    "result_df[['OPER_CODE', 'OPER_NAME']].value_counts().head(20) "
   ]
  },
  {
   "cell_type": "code",
   "execution_count": null,
   "id": "a4525196-1475-4bb2-94ad-a6826c4208b2",
   "metadata": {},
   "outputs": [],
   "source": [
    "#filter df to contain only ПЕРВИННА РЕЄСТРАЦІЯ (and 70, 71 )\n",
    "list_of_codes = [105, 100,  99,  30, 172, 70, 71]\n",
    "filtered_df = result_df[result_df['OPER_CODE'].isin(list_of_codes)]\n",
    "filtered_df.reset_index(inplace=True)"
   ]
  },
  {
   "cell_type": "code",
   "execution_count": null,
   "id": "f74bbe24-f363-4082-ad54-70ca0fcdb678",
   "metadata": {},
   "outputs": [],
   "source": [
    "len(filtered_df) "
   ]
  },
  {
   "cell_type": "code",
   "execution_count": null,
   "id": "9c3375a6-abee-4d88-83b4-eca936d9a3bf",
   "metadata": {},
   "outputs": [],
   "source": [
    "#check if unique\n",
    "filtered_df['VIN'].duplicated().sum() "
   ]
  },
  {
   "cell_type": "code",
   "execution_count": null,
   "id": "6c262c66-ab83-47cf-89e0-160837989b1a",
   "metadata": {},
   "outputs": [],
   "source": [
    "duplicates = filtered_df['VIN'].duplicated()\n",
    "filtered_df[duplicates].tail(6)"
   ]
  },
  {
   "cell_type": "code",
   "execution_count": null,
   "id": "218b83f6-a558-4937-866a-f805c7b5bc8d",
   "metadata": {},
   "outputs": [],
   "source": [
    "#without NAs \n",
    "filtered_df[~filtered_df['VIN'].isna()].duplicated().sum()"
   ]
  },
  {
   "cell_type": "code",
   "execution_count": null,
   "id": "6480f9f2-2052-4266-bd83-653ad07e6099",
   "metadata": {},
   "outputs": [],
   "source": [
    "#only the columns that we are interested in \n",
    "firsts_df = filtered_df[['D_REG','BRAND', 'MODEL', 'MAKE_YEAR','COLOR','FUEL', 'CAPACITY']]\n",
    "firsts_df.to_csv('first_reg_all_years.csv')\n",
    "firsts_df.head()"
   ]
  },
  {
   "cell_type": "code",
   "execution_count": null,
   "id": "3058af08-52a6-4fe8-a35d-c85f6e3fcfee",
   "metadata": {},
   "outputs": [],
   "source": [
    "firsts_df.dtypes"
   ]
  },
  {
   "cell_type": "markdown",
   "id": "5720e4d7-1147-4632-8453-f80a07fe0c71",
   "metadata": {},
   "source": [
    "Data format check"
   ]
  },
  {
   "cell_type": "code",
   "execution_count": null,
   "id": "ce903a80-1ad3-45f2-b4e8-ac3a31a0adcb",
   "metadata": {},
   "outputs": [],
   "source": [
    "years = [x+1 for x in range(2012,2023)]\n",
    "for year in years:\n",
    "    s = firsts_df[firsts_df['D_REG'].str.contains(str(year))]['D_REG']\n",
    "    print(s.max())"
   ]
  },
  {
   "cell_type": "code",
   "execution_count": null,
   "id": "a64ba49a-331d-4b21-bbae-5d2f4582f77b",
   "metadata": {},
   "outputs": [],
   "source": [
    "firsts_df[firsts_df['D_REG'].str.endswith('23')]['D_REG'].head(1)"
   ]
  },
  {
   "cell_type": "code",
   "execution_count": null,
   "id": "305acf2b-2522-40e9-a412-7daeedaabc04",
   "metadata": {},
   "outputs": [],
   "source": [
    "#converting all the dates. It takes a while. \n",
    "def convert_date(date_str):\n",
    "    if '-' in date_str:\n",
    "        # Dates from 2013 to 2018 are in the format '2013-12-30'\n",
    "        return pd.to_datetime(date_str, format='%Y-%m-%d')\n",
    "    elif len(date_str) == 10:\n",
    "        # Dates from 2019 to 2022 are in the format '31.10.2019'\n",
    "        return pd.to_datetime(date_str, format='%d.%m.%Y')\n",
    "    else:\n",
    "        # Dates in 2023 are in the format '20.10.23'\n",
    "        return pd.to_datetime(date_str, format='%d.%m.%y')\n",
    "\n",
    "# Apply the function to the 'D_REG' column\n",
    "firsts_df['D_REG'] = firsts_df['D_REG'].apply(convert_date)"
   ]
  },
  {
   "cell_type": "code",
   "execution_count": null,
   "id": "63a10987-eba1-4f81-8538-9b4bd1273656",
   "metadata": {},
   "outputs": [],
   "source": [
    "firsts_df.dtypes"
   ]
  },
  {
   "cell_type": "raw",
   "id": "b870a2ad-362a-48d5-90fa-1f49edc21eab",
   "metadata": {},
   "source": [
    "Quick analysis and grouping"
   ]
  },
  {
   "cell_type": "code",
   "execution_count": null,
   "id": "8cb5864d-ecc2-4263-b297-3e84c5d64028",
   "metadata": {},
   "outputs": [],
   "source": [
    "frsts = firsts_df.copy()\n",
    "frsts.head()"
   ]
  },
  {
   "cell_type": "code",
   "execution_count": null,
   "id": "52ba3928-59b1-45a4-8da5-232ffc279e62",
   "metadata": {},
   "outputs": [],
   "source": [
    "frsts.loc[:, 'YEAR'] = frsts['D_REG'].dt.year"
   ]
  },
  {
   "cell_type": "code",
   "execution_count": null,
   "id": "66f4296f-2474-46f8-b19f-762b4b0cc67e",
   "metadata": {},
   "outputs": [],
   "source": [
    "# Group by 'YEAR' and count the number of rows for each year\n",
    "car_count_by_year = frsts.groupby('YEAR').size()\n",
    "\n",
    "# If you want the result as a DataFrame\n",
    "car_count_by_year_df = pd.DataFrame(car_count_by_year, columns=['Car Count'])"
   ]
  },
  {
   "cell_type": "code",
   "execution_count": null,
   "id": "2cd7066b-2459-4b0a-a89b-95fda0368247",
   "metadata": {},
   "outputs": [],
   "source": [
    "# trend of new cars \n",
    "sns.lineplot(x='YEAR', y='Car Count', marker='o', linestyle='-', color='b', data=car_count_by_year_df)\n",
    "plt.title('Number of Cars First Registered Each Year')\n",
    "plt.xlabel('Year')\n",
    "plt.ylabel('Number of Cars')\n",
    "plt.show()"
   ]
  },
  {
   "cell_type": "raw",
   "id": "4952569c-1c2d-4b25-8262-fda735179c17",
   "metadata": {},
   "source": [
    "cars each year by color"
   ]
  },
  {
   "cell_type": "code",
   "execution_count": null,
   "id": "2b36ed11-e4ff-4f6c-95ee-3a7172b481be",
   "metadata": {},
   "outputs": [],
   "source": [
    "top_colors_by_year = frsts.groupby('YEAR')['COLOR'].value_counts().reset_index(name='Count')\n",
    "\n",
    "pivoted_colors_by_year = top_colors_by_year.pivot(index='COLOR', columns='YEAR', values='Count')\n",
    "pivoted_colors_by_year"
   ]
  },
  {
   "cell_type": "code",
   "execution_count": null,
   "id": "9fe1ef1e-56b5-499f-a6bb-00f360e11278",
   "metadata": {},
   "outputs": [],
   "source": [
    "pivoted_colors_by_year.to_csv('colors_by_year.csv')"
   ]
  },
  {
   "cell_type": "raw",
   "id": "b9c0213f-6a76-487b-aa51-2e0a2200c0c1",
   "metadata": {},
   "source": [
    "Brands by year"
   ]
  },
  {
   "cell_type": "code",
   "execution_count": null,
   "id": "8e90b126-a783-4956-bd2e-79c6b7a69206",
   "metadata": {},
   "outputs": [],
   "source": [
    "frsts[frsts['YEAR']==2013][['BRAND', 'MODEL']].value_counts().head(10)\n",
    "#this is bad"
   ]
  },
  {
   "cell_type": "code",
   "execution_count": null,
   "id": "f4e5ac27-b1eb-4ed7-b757-5598cc3da300",
   "metadata": {},
   "outputs": [],
   "source": [
    "#only the first word of 'wrong' brands will be a brand \n",
    "frsts.loc[:,'brand_only'] = frsts['BRAND'].apply(lambda x: x.split()[0])"
   ]
  },
  {
   "cell_type": "code",
   "execution_count": null,
   "id": "87eab227-1136-4297-ab4f-ea9f11200733",
   "metadata": {},
   "outputs": [],
   "source": [
    "frsts['brand_only'].nunique()"
   ]
  },
  {
   "cell_type": "code",
   "execution_count": null,
   "id": "099ec100-2c8f-454b-8e61-fd539313ae39",
   "metadata": {},
   "outputs": [],
   "source": [
    "frsts['brand_only'].value_counts().tail(10)"
   ]
  },
  {
   "cell_type": "code",
   "execution_count": null,
   "id": "d9ead7bb-1f27-4878-9b85-5add097975f7",
   "metadata": {},
   "outputs": [],
   "source": [
    "brands_by_year_all = frsts.groupby('YEAR')['brand_only'].value_counts().reset_index(name='Count')\n",
    "\n",
    "# Rank the brands within each year \n",
    "brands_by_year_all.loc[:,'rank'] = brands_by_year_all.groupby('YEAR')['Count'].rank(method='dense', ascending=False)\n",
    "\n",
    "# Filter out the top 10 brands for each year\n",
    "top_brands_df = brands_by_year_all[brands_by_year_all['rank'] <= 10]\n",
    "\n",
    "# Sorting by year and rank for better readability\n",
    "top_brands_df = top_brands_df.sort_values(by=['YEAR', 'rank'])\n",
    "\n",
    "# Reset index for the final DataFrame\n",
    "top_brands_df.reset_index(drop=True, inplace=True)"
   ]
  },
  {
   "cell_type": "code",
   "execution_count": null,
   "id": "e6861a55-c3ca-4296-b4ff-e368b484dfe6",
   "metadata": {},
   "outputs": [],
   "source": [
    "top_brands_df"
   ]
  },
  {
   "cell_type": "code",
   "execution_count": null,
   "id": "94f7eec3-25d8-402f-a159-9f29fefc04be",
   "metadata": {},
   "outputs": [],
   "source": [
    "top_brands_df.to_csv('top_brands_count.csv')"
   ]
  },
  {
   "cell_type": "code",
   "execution_count": null,
   "id": "ed07706f-a9e3-478f-8975-4995894870d6",
   "metadata": {},
   "outputs": [],
   "source": [
    "#same pivoting as with colors \n",
    "pivoted_brands_by_year_all = top_brands_df.pivot(index='brand_only', columns='YEAR', values='rank')"
   ]
  },
  {
   "cell_type": "code",
   "execution_count": null,
   "id": "cdc2d459-d0df-406a-8854-2e6147c02e98",
   "metadata": {},
   "outputs": [],
   "source": [
    "#same pivoting as with colors\n",
    "pivoted_brands_counts = top_brands_df.pivot(index='brand_only', columns='YEAR', values='Count')"
   ]
  },
  {
   "cell_type": "code",
   "execution_count": null,
   "id": "44562239-3adc-4dad-bdea-53184f58f66c",
   "metadata": {},
   "outputs": [],
   "source": [
    "pivoted_brands_counts"
   ]
  },
  {
   "cell_type": "code",
   "execution_count": null,
   "id": "fe0a916f-943d-46f9-9de2-0f4cfa492de0",
   "metadata": {},
   "outputs": [],
   "source": [
    "pivoted_brands_counts.to_csv('pivoted_brands_counts.csv')"
   ]
  },
  {
   "cell_type": "code",
   "execution_count": null,
   "id": "fed369a0-df36-4763-b1de-55a6ed2cde2e",
   "metadata": {},
   "outputs": [],
   "source": [
    "pivoted_brands_by_year_all"
   ]
  },
  {
   "cell_type": "code",
   "execution_count": null,
   "id": "0af24eb4-a1c3-4355-8878-f3b99a4751cf",
   "metadata": {},
   "outputs": [],
   "source": [
    "pivoted_brands_by_year_all.to_csv('brands_by_year_all.csv')"
   ]
  },
  {
   "cell_type": "code",
   "execution_count": null,
   "id": "4c540854-ee8b-4acb-af65-b6ef1397f322",
   "metadata": {},
   "outputs": [],
   "source": [
    "#same pivoting as with colors \n",
    "pivoted_brands_by_year_all = top_brands_df.pivot(index='brand_only', columns='YEAR', values='rank')\n"
   ]
  },
  {
   "cell_type": "code",
   "execution_count": null,
   "id": "1ae52ef1-8f3c-4d84-8b4f-e0bff6b4a22b",
   "metadata": {},
   "outputs": [],
   "source": [
    "#unpivoted table for heatmap\n",
    "top_brands_df.to_csv('top_brands_heatmap.csv')"
   ]
  },
  {
   "cell_type": "raw",
   "id": "d13c8d5f-033b-4ac5-8769-25af0906ee44",
   "metadata": {},
   "source": [
    "share of electric cars"
   ]
  },
  {
   "cell_type": "code",
   "execution_count": null,
   "id": "b5930717-1dd6-4bd3-ab36-883b61d86ede",
   "metadata": {},
   "outputs": [],
   "source": [
    "fuel_by_year = frsts.groupby(['YEAR', 'FUEL']).size().reset_index(name='Count')\n",
    "\n",
    "pivoted_fuel_by_year = fuel_by_year.pivot(index='FUEL', columns='YEAR', values='Count')\n",
    "\n",
    "pivoted_fuel_by_year['electro'] = pivoted_fuel_by_year.index.str.contains('ЕЛЕКТРО')\n",
    "electro = pivoted_fuel_by_year.groupby('electro').sum()\n",
    "electro = electro.T\n",
    "electro"
   ]
  },
  {
   "cell_type": "code",
   "execution_count": null,
   "id": "1240e4c0-f262-4eeb-8b9a-f6f9ee57ec6d",
   "metadata": {},
   "outputs": [],
   "source": [
    "electro.to_csv('electro.csv')"
   ]
  },
  {
   "cell_type": "code",
   "execution_count": null,
   "id": "ff22519c-911a-4d3a-96ef-04bfc97f8dee",
   "metadata": {},
   "outputs": [],
   "source": [
    "electro['year_total'] = electro[True] + electro[False]\n",
    "electro['share_true'] = electro[True] / electro['year_total']\n",
    "plt.bar(electro.index, electro['share_true'] * 100, color='blue', alpha=0.7)"
   ]
  }
 ],
 "metadata": {
  "kernelspec": {
   "display_name": "Python 3 (ipykernel)",
   "language": "python",
   "name": "python3"
  },
  "language_info": {
   "codemirror_mode": {
    "name": "ipython",
    "version": 3
   },
   "file_extension": ".py",
   "mimetype": "text/x-python",
   "name": "python",
   "nbconvert_exporter": "python",
   "pygments_lexer": "ipython3",
   "version": "3.11.5"
  }
 },
 "nbformat": 4,
 "nbformat_minor": 5
}
